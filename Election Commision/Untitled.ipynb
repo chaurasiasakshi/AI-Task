{
 "cells": [
  {
   "cell_type": "code",
   "execution_count": 1,
   "id": "8cb6549e-b5d9-4e19-b212-ad2b150a17f6",
   "metadata": {},
   "outputs": [],
   "source": [
    "import requests\n",
    "from bs4 import BeautifulSoup\n",
    "import pandas as pd"
   ]
  },
  {
   "cell_type": "code",
   "execution_count": 2,
   "id": "2176a993-8c5d-4616-b213-c4af3bf74486",
   "metadata": {},
   "outputs": [],
   "source": [
    "web = requests.get('https://results.eci.gov.in/PcResultGenJune2024/index.htm')"
   ]
  },
  {
   "cell_type": "code",
   "execution_count": 3,
   "id": "6153e067-107d-4f87-ae7d-dc7154b1990f",
   "metadata": {},
   "outputs": [],
   "source": [
    "soup = BeautifulSoup(web.content)"
   ]
  },
  {
   "cell_type": "code",
   "execution_count": 4,
   "id": "f9d4390b-c65c-48d8-bd93-6869f38042fe",
   "metadata": {},
   "outputs": [],
   "source": [
    "# fetch the webpage content\n",
    " \n",
    "web =requests.get(\"https://results.eci.gov.in/PcResultGenJune2024/index.htm\")\n",
    " \n",
    "soup = BeautifulSoup(web.content,\"html.parser\")"
   ]
  },
  {
   "cell_type": "code",
   "execution_count": null,
   "id": "4b09cc4e-ebd0-47b5-8009-51c36177472c",
   "metadata": {},
   "outputs": [],
   "source": [
    "flter-btns"
   ]
  },
  {
   "cell_type": "code",
   "execution_count": 7,
   "id": "b677108b-7ecd-4484-9378-29b9bc10d81d",
   "metadata": {},
   "outputs": [
    {
     "data": {
      "text/plain": [
       "[<div class=\"flter-btns\"> <select id=\"ctl00_ContentPlaceHolder1_Result1_ddlState\" name=\"state\" onchange=\"return GetResult(this)\"> <option value=\"\"> Select State Wise </option><option value=\"U01\">Andaman &amp; Nicobar Islands</option><option value=\"S01\">Andhra Pradesh</option><option value=\"S02\">Arunachal Pradesh</option><option value=\"S03\">Assam</option><option value=\"S04\">Bihar</option><option value=\"U02\">Chandigarh</option><option value=\"S26\">Chhattisgarh</option><option value=\"U03\">Dadra &amp; Nagar Haveli and Daman &amp; Diu</option><option value=\"S05\">Goa</option><option value=\"S06\">Gujarat</option><option value=\"S07\">Haryana</option><option value=\"S08\">Himachal Pradesh</option><option value=\"U08\">Jammu and Kashmir</option><option value=\"S27\">Jharkhand</option><option value=\"S10\">Karnataka</option><option value=\"S11\">Kerala</option><option value=\"U09\">Ladakh</option><option value=\"U06\">Lakshadweep</option><option value=\"S12\">Madhya Pradesh</option><option value=\"S13\">Maharashtra</option><option value=\"S14\">Manipur</option><option value=\"S15\">Meghalaya</option><option value=\"S16\">Mizoram</option><option value=\"S17\">Nagaland</option><option value=\"U05\">NCT OF Delhi</option><option value=\"S18\">Odisha</option><option value=\"U07\">Puducherry</option><option value=\"S19\">Punjab</option><option value=\"S20\">Rajasthan</option><option value=\"S21\">Sikkim</option><option value=\"S22\">Tamil Nadu</option><option value=\"S29\">Telangana</option><option value=\"S23\">Tripura</option><option value=\"S24\">Uttar Pradesh</option><option value=\"S28\">Uttarakhand</option><option value=\"S25\">West Bengal</option></select> </div>]"
      ]
     },
     "execution_count": 7,
     "metadata": {},
     "output_type": "execute_result"
    }
   ],
   "source": [
    "soup.find_all('div',class_='flter-btns')"
   ]
  },
  {
   "cell_type": "code",
   "execution_count": 8,
   "id": "363a0633-0f02-44b7-b101-542116179019",
   "metadata": {},
   "outputs": [],
   "source": [
    "state = []\n",
    "state = soup.find_all('div',class_='flter-btns')\n",
    "\n",
    "for tbl in state:\n",
    "    rows = tbl.find_all('select', id_='ctl00_ContentPlaceHolder1_Result1_ddlState')\n",
    "    for row in rows:\n",
    "        first_td = row.find('td')\n",
    "        if first_td:\n",
    "            print(first_td.text.strip())\n",
    "            table_result.append(first_td.text.strip())"
   ]
  },
  {
   "cell_type": "code",
   "execution_count": 18,
   "id": "730d7d9a-2230-44ad-9978-dcc51eb563bd",
   "metadata": {},
   "outputs": [
    {
     "name": "stdout",
     "output_type": "stream",
     "text": [
      "Select State Wise\n",
      "Andaman & Nicobar Islands\n",
      "Andhra Pradesh\n",
      "Arunachal Pradesh\n",
      "Assam\n",
      "Bihar\n",
      "Chandigarh\n",
      "Chhattisgarh\n",
      "Dadra & Nagar Haveli and Daman & Diu\n",
      "Goa\n",
      "Gujarat\n",
      "Haryana\n",
      "Himachal Pradesh\n",
      "Jammu and Kashmir\n",
      "Jharkhand\n",
      "Karnataka\n",
      "Kerala\n",
      "Ladakh\n",
      "Lakshadweep\n",
      "Madhya Pradesh\n",
      "Maharashtra\n",
      "Manipur\n",
      "Meghalaya\n",
      "Mizoram\n",
      "Nagaland\n",
      "NCT OF Delhi\n",
      "Odisha\n",
      "Puducherry\n",
      "Punjab\n",
      "Rajasthan\n",
      "Sikkim\n",
      "Tamil Nadu\n",
      "Telangana\n",
      "Tripura\n",
      "Uttar Pradesh\n",
      "Uttarakhand\n",
      "West Bengal\n"
     ]
    }
   ],
   "source": [
    "from bs4 import BeautifulSoup\n",
    "state = []\n",
    "# Assuming `soup` is your BeautifulSoup object created from the HTML content\n",
    "state_divs = soup.find_all('div', class_='flter-btns')\n",
    "\n",
    "# Loop through each div with class 'flter-btns'\n",
    "for div in state_divs:\n",
    "    # Find all 'select' elements with the specific id within the current div\n",
    "    selects = div.find_all('select', id='ctl00_ContentPlaceHolder1_Result1_ddlState')\n",
    "    for select in selects:\n",
    "        options = select.find_all('option')\n",
    "        for option in options:\n",
    "            if option:\n",
    "                state_text = option.text.strip()\n",
    "                print(state_text)\n",
    "                state.append(state_text)\n",
    "        \n",
    "#print(\"ALL STATES\",state)"
   ]
  },
  {
   "cell_type": "code",
   "execution_count": 21,
   "id": "7a8f5f32-9863-4666-be9e-b576e76b0ae9",
   "metadata": {},
   "outputs": [
    {
     "ename": "AttributeError",
     "evalue": "'list' object has no attribute 'to_csv'",
     "output_type": "error",
     "traceback": [
      "\u001b[1;31m---------------------------------------------------------------------------\u001b[0m",
      "\u001b[1;31mAttributeError\u001b[0m                            Traceback (most recent call last)",
      "Cell \u001b[1;32mIn[21], line 1\u001b[0m\n\u001b[1;32m----> 1\u001b[0m \u001b[43mstate\u001b[49m\u001b[38;5;241;43m.\u001b[39;49m\u001b[43mto_csv\u001b[49m(\u001b[38;5;124m\"\u001b[39m\u001b[38;5;124mState.csv\u001b[39m\u001b[38;5;124m\"\u001b[39m,index\u001b[38;5;241m=\u001b[39m\u001b[38;5;28;01mFalse\u001b[39;00m)\n",
      "\u001b[1;31mAttributeError\u001b[0m: 'list' object has no attribute 'to_csv'"
     ]
    }
   ],
   "source": [
    "state.to_csv(\"State.csv\",index=False)"
   ]
  },
  {
   "cell_type": "code",
   "execution_count": 20,
   "id": "f145650e-845c-4f1a-8f8f-0679613b29fb",
   "metadata": {},
   "outputs": [
    {
     "data": {
      "text/plain": [
       "['Select State Wise',\n",
       " 'Andaman & Nicobar Islands',\n",
       " 'Andhra Pradesh',\n",
       " 'Arunachal Pradesh',\n",
       " 'Assam',\n",
       " 'Bihar',\n",
       " 'Chandigarh',\n",
       " 'Chhattisgarh',\n",
       " 'Dadra & Nagar Haveli and Daman & Diu',\n",
       " 'Goa',\n",
       " 'Gujarat',\n",
       " 'Haryana',\n",
       " 'Himachal Pradesh',\n",
       " 'Jammu and Kashmir',\n",
       " 'Jharkhand',\n",
       " 'Karnataka',\n",
       " 'Kerala',\n",
       " 'Ladakh',\n",
       " 'Lakshadweep',\n",
       " 'Madhya Pradesh',\n",
       " 'Maharashtra',\n",
       " 'Manipur',\n",
       " 'Meghalaya',\n",
       " 'Mizoram',\n",
       " 'Nagaland',\n",
       " 'NCT OF Delhi',\n",
       " 'Odisha',\n",
       " 'Puducherry',\n",
       " 'Punjab',\n",
       " 'Rajasthan',\n",
       " 'Sikkim',\n",
       " 'Tamil Nadu',\n",
       " 'Telangana',\n",
       " 'Tripura',\n",
       " 'Uttar Pradesh',\n",
       " 'Uttarakhand',\n",
       " 'West Bengal']"
      ]
     },
     "execution_count": 20,
     "metadata": {},
     "output_type": "execute_result"
    }
   ],
   "source": [
    "state"
   ]
  },
  {
   "cell_type": "code",
   "execution_count": null,
   "id": "1d45c364-6a20-4018-8ef2-c968e0c75326",
   "metadata": {},
   "outputs": [],
   "source": []
  }
 ],
 "metadata": {
  "kernelspec": {
   "display_name": "Python 3 (ipykernel)",
   "language": "python",
   "name": "python3"
  },
  "language_info": {
   "codemirror_mode": {
    "name": "ipython",
    "version": 3
   },
   "file_extension": ".py",
   "mimetype": "text/x-python",
   "name": "python",
   "nbconvert_exporter": "python",
   "pygments_lexer": "ipython3",
   "version": "3.10.11"
  }
 },
 "nbformat": 4,
 "nbformat_minor": 5
}
